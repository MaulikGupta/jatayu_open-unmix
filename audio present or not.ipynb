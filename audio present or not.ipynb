{
 "cells": [
  {
   "cell_type": "code",
   "execution_count": 1,
   "id": "f527f763",
   "metadata": {},
   "outputs": [],
   "source": [
    "import sounddevice\n",
    "from scipy.io.wavfile import write\n",
    "from scipy.io import wavfile\n",
    "import librosa\n",
    "import librosa.display\n",
    "from unsilence import Unsilence"
   ]
  },
  {
   "cell_type": "code",
   "execution_count": 15,
   "id": "943c9271",
   "metadata": {},
   "outputs": [
    {
     "name": "stdout",
     "output_type": "stream",
     "text": [
      "recording...\n",
      "done\n"
     ]
    }
   ],
   "source": [
    "fps = 44100\n",
    "duration = 3\n",
    "print('recording...')\n",
    "recording = sounddevice.rec(int(duration*fps), samplerate=fps, channels=1)\n",
    "sounddevice.wait()\n",
    "print('done')\n",
    "write('output.wav', fps, recording)"
   ]
  },
  {
   "cell_type": "code",
   "execution_count": 6,
   "id": "fbe7f893",
   "metadata": {},
   "outputs": [],
   "source": [
    "# data, sample_rate = librosa.load('/home/maulik/Desktop/Maulik_Gupta/Documents/output.wav')\n",
    "# librosa.display.waveplot(data, sr=sample_rate)\n",
    "# print(librosa.db_to_amplitude(data, ref=1.0))\n",
    "# for i in data:\n",
    "#     if i>=0.3:\n",
    "#         print('audio present')"
   ]
  },
  {
   "cell_type": "code",
   "execution_count": 7,
   "id": "867db1af",
   "metadata": {},
   "outputs": [
    {
     "data": {
      "image/png": "[encoded data removed]",
      "text/plain": [
       "<Figure size 432x288 with 1 Axes>"
      ]
     },
     "metadata": {
      "needs_background": "light"
     },
     "output_type": "display_data"
    }
   ],
   "source": [
    "data, sample_rate = librosa.load('/home/maulik/Desktop/Maulik_Gupta/Documents/output.wav')\n",
    "librosa.display.waveplot(data, sr=sample_rate)\n",
    "count = 0\n",
    "for i in data[25000:]:\n",
    "#     print(i, end=' ')\n",
    "    if i>=0.6:\n",
    "#         count = count +1\n",
    "#     else:\n",
    "#         sys.exit()\n",
    "        print('audio present')\n",
    "        sys.exit()"
   ]
  },
  {
   "cell_type": "code",
   "execution_count": 8,
   "id": "7cfbd026",
   "metadata": {},
   "outputs": [],
   "source": [
    "# count"
   ]
  },
  {
   "cell_type": "code",
   "execution_count": 9,
   "id": "bc77c8f3",
   "metadata": {},
   "outputs": [],
   "source": [
    "# yt, index = librosa.effects.trim(data[fs:], top_db=500, frame_length=25600, hop_length=64)"
   ]
  },
  {
   "cell_type": "code",
   "execution_count": 10,
   "id": "3e50b514",
   "metadata": {},
   "outputs": [],
   "source": [
    "# librosa.display.waveplot(yt, sr=sample_rate)"
   ]
  },
  {
   "cell_type": "code",
   "execution_count": 11,
   "id": "c9d02088",
   "metadata": {},
   "outputs": [],
   "source": [
    "# from pydub import AudioSegment\n",
    "\n",
    "# sound = AudioSegment.from_file(\"output.wav\")\n",
    "\n",
    "# def detect_leading_silence(sound, silence_threshold=-50.0, chunk_size=10):\n",
    "#     '''\n",
    "#     sound is a pydub.AudioSegment\n",
    "#     silence_threshold in dB\n",
    "#     chunk_size in ms\n",
    "#     iterate over chunks until you find the first one with sound\n",
    "#     '''\n",
    "#     trim_ms = 0  # ms\n",
    "#     while sound[trim_ms:trim_ms+chunk_size].dBFS < silence_threshold:\n",
    "#         trim_ms += chunk_size\n",
    "\n",
    "#     return trim_ms\n",
    "\n",
    "# if __name__ == '__main__':\n",
    "#     import sys\n",
    "\n",
    "#     sound = AudioSegment.from_file(sys.argv[1], format=\"wav\")\n",
    "\n",
    "#     start_trim = detect_leading_silence(sound)\n",
    "#     end_trim = detect_leading_silence(sound.reverse())\n",
    "\n",
    "#     duration = len(sound)\n",
    "#     trimmed_sound = sound[start_trim:duration-end_trim]\n",
    "#     trimmed_sound.export(sys.argv[1], format=\"wav\")"
   ]
  },
  {
   "cell_type": "code",
   "execution_count": 12,
   "id": "be1429b8",
   "metadata": {},
   "outputs": [],
   "source": [
    "import cv2\n",
    "\n",
    "def capture_image():\n",
    "    cam = cv2.VideoCapture(0)\n",
    "\n",
    "    cv2.namedWindow(\"test\")\n",
    "\n",
    "    img_counter = 0\n",
    "\n",
    "    while True:\n",
    "        ret, frame = cam.read()\n",
    "        if not ret:\n",
    "            print(\"failed to grab frame\")\n",
    "            break\n",
    "        cv2.imshow(\"test\", frame)\n",
    "\n",
    "        k = cv2.waitKey(1)\n",
    "        if k%256 == 27:\n",
    "            # ESC pressed\n",
    "            print(\"Escape hit, closing...\")\n",
    "            break\n",
    "        elif k%256 == 32:\n",
    "            # SPACE pressed\n",
    "            img_name = \"opencv_frame_{}.png\".format(img_counter)\n",
    "            cv2.imwrite(img_name, frame)\n",
    "            print(\"{} written!\".format(img_name))\n",
    "            img_counter += 1\n",
    "\n",
    "    cam.release()\n",
    "\n",
    "    cv2.destroyAllWindows()"
   ]
  },
  {
   "cell_type": "code",
   "execution_count": 13,
   "id": "0dcabe46",
   "metadata": {},
   "outputs": [
    {
     "name": "stdout",
     "output_type": "stream",
     "text": [
      "opencv_frame_0.png written!\n",
      "Escape hit, closing...\n"
     ]
    }
   ],
   "source": [
    "capture_image()"
   ]
  },
  {
   "cell_type": "code",
   "execution_count": 3,
   "id": "ad30e0eb",
   "metadata": {},
   "outputs": [
    {
     "name": "stdout",
     "output_type": "stream",
     "text": [
      "opencv_frame_0.png written!\n",
      "Escape hit, closing...\n"
     ]
    }
   ],
   "source": [
    "# import cv2\n",
    "\n",
    "# cam = cv2.VideoCapture(0)\n",
    "\n",
    "# cv2.namedWindow(\"test\")\n",
    "\n",
    "# img_counter = 0\n",
    "\n",
    "# while True:\n",
    "#     ret, frame = cam.read()\n",
    "#     if not ret:\n",
    "#         print(\"failed to grab frame\")\n",
    "#         break\n",
    "#     cv2.imshow(\"test\", frame)\n",
    "\n",
    "#     k = cv2.waitKey(1)\n",
    "#     if k%256 == 27:\n",
    "#         # ESC pressed\n",
    "#         print(\"Escape hit, closing...\")\n",
    "#         break\n",
    "#     elif k%256 == 32:\n",
    "#         # SPACE pressed\n",
    "#         img_name = \"opencv_frame_{}.png\".format(img_counter)\n",
    "#         cv2.imwrite(img_name, frame)\n",
    "#         print(\"{} written!\".format(img_name))\n",
    "#         img_counter += 1\n",
    "\n",
    "# cam.release()\n",
    "\n",
    "# cv2.destroyAllWindows()"
   ]
  },
  {
   "cell_type": "code",
   "execution_count": 14,
   "id": "ca295722",
   "metadata": {},
   "outputs": [],
   "source": [
    "# import cv2\n",
    "# import sys\n",
    "# import logging as log\n",
    "# import datetime as dt\n",
    "# from time import sleep\n",
    "\n",
    "# cascPath = \"haarcascade_frontalface_default.xml\"\n",
    "# faceCascade = cv2.CascadeClassifier(cascPath)\n",
    "# log.basicConfig(filename='webcam.log',level=log.INFO)\n",
    "\n",
    "# video_capture = cv2.VideoCapture(0)\n",
    "# anterior = 0\n",
    "\n",
    "# while True:\n",
    "#     if not video_capture.isOpened():\n",
    "#         print('Unable to load camera.')\n",
    "#         sleep(5)\n",
    "#         pass\n",
    "\n",
    "#     # Capture frame-by-frame\n",
    "#     ret, frame = video_capture.read()\n",
    "\n",
    "#     gray = cv2.cvtColor(frame, cv2.COLOR_BGR2GRAY)\n",
    "\n",
    "#     faces = faceCascade.detectMultiScale(\n",
    "#         gray,\n",
    "#         scaleFactor=1.1,\n",
    "#         minNeighbors=5,\n",
    "#         minSize=(30, 30)\n",
    "#     )\n",
    "\n",
    "#     # Draw a rectangle around the faces\n",
    "#     for (x, y, w, h) in faces:\n",
    "#         cv2.rectangle(frame, (x, y), (x+w, y+h), (0, 255, 0), 2)\n",
    "\n",
    "#     if anterior != len(faces):\n",
    "#         anterior = len(faces)\n",
    "#         log.info(\"faces: \"+str(len(faces))+\" at \"+str(dt.datetime.now()))\n",
    "\n",
    "\n",
    "#     # Display the resulting frame\n",
    "#     cv2.imshow('Video', frame)\n",
    "\n",
    "#     if cv2.waitKey(1) & 0xFF == ord('s'): \n",
    "\n",
    "#         check, frame = video_capture.read()\n",
    "#         cv2.imshow(\"Capturing\", frame)\n",
    "#         cv2.imwrite(filename='saved_img.jpg', img=frame)\n",
    "#         video_capture.release()\n",
    "#         img_new = cv2.imread('saved_img.jpg', cv2.IMREAD_GRAYSCALE)\n",
    "#         img_new = cv2.imshow(\"Captured Image\", img_new)\n",
    "#         cv2.waitKey(1650)\n",
    "#         print(\"Image Saved\")\n",
    "#         print(\"Program End\")\n",
    "#         cv2.destroyAllWindows()\n",
    "\n",
    "#         break\n",
    "#     elif cv2.waitKey(1) & 0xFF == ord('q'):\n",
    "#         print(\"Turning off camera.\")\n",
    "#         video_capture.release()\n",
    "#         print(\"Camera off.\")\n",
    "#         print(\"Program ended.\")\n",
    "#         cv2.destroyAllWindows()\n",
    "#         break\n",
    "\n",
    "#     # Display the resulting frame\n",
    "#     cv2.imshow('Video', frame)\n",
    "\n",
    "# # When everything is done, release the capture\n",
    "# video_capture.release()\n",
    "# cv2.destroyAllWindows()"
   ]
  },
  {
   "cell_type": "code",
   "execution_count": 150,
   "id": "7492e92a",
   "metadata": {},
   "outputs": [],
   "source": [
    "# cv2.destroyAllWindows()"
   ]
  },
  {
   "cell_type": "code",
   "execution_count": 151,
   "id": "99355244",
   "metadata": {},
   "outputs": [],
   "source": [
    "# video_capture.release()"
   ]
  },
  {
   "cell_type": "code",
   "execution_count": null,
   "id": "b026ac0b",
   "metadata": {},
   "outputs": [],
   "source": []
  }
 ],
 "metadata": {
  "kernelspec": {
   "display_name": "Python 3",
   "language": "python",
   "name": "python3"
  },
  "language_info": {
   "codemirror_mode": {
    "name": "ipython",
    "version": 3
   },
   "file_extension": ".py",
   "mimetype": "text/x-python",
   "name": "python",
   "nbconvert_exporter": "python",
   "pygments_lexer": "ipython3",
   "version": "3.7.10"
  }
 },
 "nbformat": 4,
 "nbformat_minor": 5
}
